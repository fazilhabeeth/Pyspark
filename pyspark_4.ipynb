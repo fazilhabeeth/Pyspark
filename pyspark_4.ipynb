{
 "cells": [
  {
   "cell_type": "code",
   "execution_count": 1,
   "id": "eb4f0e41-50d8-40a4-993f-230cd9590163",
   "metadata": {},
   "outputs": [],
   "source": [
    "#pyspark dataframe\n",
    "#filetr operation\n",
    "#&,|,==\n",
    "# ~"
   ]
  },
  {
   "cell_type": "code",
   "execution_count": 2,
   "id": "bd391241-224c-4381-a8c1-d7cb1a3d9037",
   "metadata": {},
   "outputs": [],
   "source": [
    "from pyspark.sql import SparkSession\n",
    "spark=SparkSession.builder.appName('dataframe').getOrCreate()"
   ]
  },
  {
   "cell_type": "code",
   "execution_count": 3,
   "id": "642cf7eb-d1bf-4bf5-9ac7-21dc6c772f7d",
   "metadata": {},
   "outputs": [],
   "source": [
    "df_pyspark=spark.read.csv('test3.csv',header=True,inferSchema=True)"
   ]
  },
  {
   "cell_type": "code",
   "execution_count": 4,
   "id": "4d349999-71c3-40d9-a919-cda627f7760a",
   "metadata": {},
   "outputs": [
    {
     "name": "stdout",
     "output_type": "stream",
     "text": [
      "+---------+---+----------+------+\n",
      "|     name|age|experience|salary|\n",
      "+---------+---+----------+------+\n",
      "|    fazil| 21|        11| 10000|\n",
      "|     umar| 30|        12| 20000|\n",
      "|   fazila| 20|        32| 30000|\n",
      "|jabarulla| 50|        40| 40000|\n",
      "|   asathi| 40|        17| 50000|\n",
      "|  mohamed| 30|        16| 60000|\n",
      "|abuthahir| 60|        30| 70000|\n",
      "|    vijay| 70|        30| 80000|\n",
      "|    surya| 30|        10| 90000|\n",
      "+---------+---+----------+------+\n",
      "\n"
     ]
    }
   ],
   "source": [
    "df_pyspark.show()"
   ]
  },
  {
   "cell_type": "code",
   "execution_count": 5,
   "id": "2029479b-dc34-44e9-bf7e-2f2568839335",
   "metadata": {},
   "outputs": [
    {
     "name": "stdout",
     "output_type": "stream",
     "text": [
      "+---------+---+----------+------+\n",
      "|     name|age|experience|salary|\n",
      "+---------+---+----------+------+\n",
      "|    fazil| 21|        11| 10000|\n",
      "|     umar| 30|        12| 20000|\n",
      "|   fazila| 20|        32| 30000|\n",
      "|jabarulla| 50|        40| 40000|\n",
      "|   asathi| 40|        17| 50000|\n",
      "+---------+---+----------+------+\n",
      "\n"
     ]
    }
   ],
   "source": [
    "#salary of the people less than or equal to 500000\n",
    "df_pyspark.filter('salary<=50000').show()"
   ]
  },
  {
   "cell_type": "code",
   "execution_count": 7,
   "id": "65ae656a-6040-4616-a592-5cd02b99cfb1",
   "metadata": {},
   "outputs": [
    {
     "name": "stdout",
     "output_type": "stream",
     "text": [
      "+---------+---+----------+------+\n",
      "|     name|age|experience|salary|\n",
      "+---------+---+----------+------+\n",
      "|    fazil| 21|        11| 10000|\n",
      "|     umar| 30|        12| 20000|\n",
      "|   fazila| 20|        32| 30000|\n",
      "|jabarulla| 50|        40| 40000|\n",
      "|   asathi| 40|        17| 50000|\n",
      "|  mohamed| 30|        16| 60000|\n",
      "|abuthahir| 60|        30| 70000|\n",
      "|    vijay| 70|        30| 80000|\n",
      "|    surya| 30|        10| 90000|\n",
      "+---------+---+----------+------+\n",
      "\n"
     ]
    }
   ],
   "source": [
    "df_pyspark.filter((df_pyspark['Salary']<=60000) | \n",
    "                  (df_pyspark['Salary']>=10000)).show()"
   ]
  },
  {
   "cell_type": "code",
   "execution_count": 9,
   "id": "0bd0fcf9-51d7-4ddd-9928-3d1596e8dba1",
   "metadata": {},
   "outputs": [
    {
     "name": "stdout",
     "output_type": "stream",
     "text": [
      "+-----+---+----------+------+\n",
      "| name|age|experience|salary|\n",
      "+-----+---+----------+------+\n",
      "|vijay| 70|        30| 80000|\n",
      "|surya| 30|        10| 90000|\n",
      "+-----+---+----------+------+\n",
      "\n"
     ]
    }
   ],
   "source": [
    "df_pyspark.filter(~(df_pyspark['Salary']<=74000)).show()"
   ]
  },
  {
   "cell_type": "code",
   "execution_count": null,
   "id": "058d3796-891f-48a0-9c9a-de523d261d5c",
   "metadata": {},
   "outputs": [],
   "source": []
  },
  {
   "cell_type": "code",
   "execution_count": null,
   "id": "f08e2c61-672d-487d-b88a-1cc5c9e2ba0b",
   "metadata": {},
   "outputs": [],
   "source": []
  },
  {
   "cell_type": "code",
   "execution_count": null,
   "id": "7d099bfe-35c6-4697-88d0-be4f3867bc0e",
   "metadata": {},
   "outputs": [],
   "source": []
  },
  {
   "cell_type": "code",
   "execution_count": null,
   "id": "27c7b306-533f-4690-9685-af599f4db4e5",
   "metadata": {},
   "outputs": [],
   "source": []
  },
  {
   "cell_type": "code",
   "execution_count": null,
   "id": "be7ffc51-6cf3-4d20-9ea4-6835b20759e6",
   "metadata": {},
   "outputs": [],
   "source": []
  }
 ],
 "metadata": {
  "kernelspec": {
   "display_name": "Python 3 (ipykernel)",
   "language": "python",
   "name": "python3"
  },
  "language_info": {
   "codemirror_mode": {
    "name": "ipython",
    "version": 3
   },
   "file_extension": ".py",
   "mimetype": "text/x-python",
   "name": "python",
   "nbconvert_exporter": "python",
   "pygments_lexer": "ipython3",
   "version": "3.8.18"
  }
 },
 "nbformat": 4,
 "nbformat_minor": 5
}
