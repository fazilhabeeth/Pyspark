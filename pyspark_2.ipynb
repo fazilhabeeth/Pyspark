{
 "cells": [
  {
   "cell_type": "code",
   "execution_count": null,
   "id": "be57f1a0-95c7-4391-88e3-80a514bb5074",
   "metadata": {},
   "outputs": [],
   "source": [
    "#pyspark dataframe\n",
    "#reading dataset\n",
    "#checking datatypes of the column\n",
    "#check describe options similar to pandas\n",
    "#adding columns\n",
    "#dropping columns"
   ]
  },
  {
   "cell_type": "code",
   "execution_count": 1,
   "id": "4419a230-61c4-4b2e-a3d9-4233af766671",
   "metadata": {},
   "outputs": [],
   "source": [
    "from pyspark.sql import SparkSession"
   ]
  },
  {
   "cell_type": "code",
   "execution_count": 2,
   "id": "f469b8f1-023b-459c-9c55-c10551a7b10b",
   "metadata": {},
   "outputs": [],
   "source": [
    "spark=SparkSession.builder.appName('Dataframe').getOrCreate()"
   ]
  },
  {
   "cell_type": "code",
   "execution_count": 3,
   "id": "42ab0add-1a17-4247-9659-542fd0fcd44c",
   "metadata": {},
   "outputs": [
    {
     "data": {
      "text/html": [
       "\n",
       "            <div>\n",
       "                <p><b>SparkSession - in-memory</b></p>\n",
       "                \n",
       "        <div>\n",
       "            <p><b>SparkContext</b></p>\n",
       "\n",
       "            <p><a href=\"http://MSI:4041\">Spark UI</a></p>\n",
       "\n",
       "            <dl>\n",
       "              <dt>Version</dt>\n",
       "                <dd><code>v3.5.1</code></dd>\n",
       "              <dt>Master</dt>\n",
       "                <dd><code>local[*]</code></dd>\n",
       "              <dt>AppName</dt>\n",
       "                <dd><code>Dataframe</code></dd>\n",
       "            </dl>\n",
       "        </div>\n",
       "        \n",
       "            </div>\n",
       "        "
      ],
      "text/plain": [
       "<pyspark.sql.session.SparkSession at 0x268467b56d0>"
      ]
     },
     "execution_count": 3,
     "metadata": {},
     "output_type": "execute_result"
    }
   ],
   "source": [
    "spark"
   ]
  },
  {
   "cell_type": "code",
   "execution_count": 4,
   "id": "f18dbe5f-328e-4b5a-9d02-f66364d3d2ab",
   "metadata": {},
   "outputs": [],
   "source": [
    "#df_pyspark=spark.read.option('header','true').csv('test1.csv').show()"
   ]
  },
  {
   "cell_type": "code",
   "execution_count": 5,
   "id": "779ffb9b-63e5-4575-a266-b1a2c758924c",
   "metadata": {},
   "outputs": [],
   "source": [
    "#inferschema = string, integer \n",
    "df_pyspark=spark.read.option('header','true').csv('test1.csv',inferSchema=True)"
   ]
  },
  {
   "cell_type": "code",
   "execution_count": 6,
   "id": "096fae04-96f2-4ec5-b82d-6f9f839093f7",
   "metadata": {},
   "outputs": [
    {
     "name": "stdout",
     "output_type": "stream",
     "text": [
      "root\n",
      " |-- name: string (nullable = true)\n",
      " |-- age: integer (nullable = true)\n",
      " |-- Experience: integer (nullable = true)\n",
      "\n"
     ]
    }
   ],
   "source": [
    "df_pyspark.printSchema()"
   ]
  },
  {
   "cell_type": "code",
   "execution_count": 7,
   "id": "a3b88d0c-566b-4237-ba94-5fc29c0e8c52",
   "metadata": {},
   "outputs": [
    {
     "name": "stdout",
     "output_type": "stream",
     "text": [
      "+------+\n",
      "|  name|\n",
      "+------+\n",
      "| fazil|\n",
      "|  umar|\n",
      "|fazila|\n",
      "+------+\n",
      "\n"
     ]
    }
   ],
   "source": [
    "df_pyspark.select(['name']).show() "
   ]
  },
  {
   "cell_type": "code",
   "execution_count": 8,
   "id": "50553cce-46be-4a76-a869-a622d8d92382",
   "metadata": {},
   "outputs": [
    {
     "ename": "TypeError",
     "evalue": "'Column' object is not callable",
     "output_type": "error",
     "traceback": [
      "\u001b[1;31m---------------------------------------------------------------------------\u001b[0m",
      "\u001b[1;31mTypeError\u001b[0m                                 Traceback (most recent call last)",
      "Cell \u001b[1;32mIn[8], line 2\u001b[0m\n\u001b[0;32m      1\u001b[0m \u001b[38;5;66;03m# No show funtion, will get error\u001b[39;00m\n\u001b[1;32m----> 2\u001b[0m \u001b[43mdf_pyspark\u001b[49m\u001b[43m[\u001b[49m\u001b[38;5;124;43m'\u001b[39;49m\u001b[38;5;124;43mname\u001b[39;49m\u001b[38;5;124;43m'\u001b[39;49m\u001b[43m]\u001b[49m\u001b[38;5;241;43m.\u001b[39;49m\u001b[43mshow\u001b[49m\u001b[43m(\u001b[49m\u001b[43m)\u001b[49m\n",
      "\u001b[1;31mTypeError\u001b[0m: 'Column' object is not callable"
     ]
    }
   ],
   "source": [
    "# No show funtion, will get error\n",
    "df_pyspark['name'].show()"
   ]
  },
  {
   "cell_type": "code",
   "execution_count": 9,
   "id": "e0677200-a68b-4b63-8028-7c5697e1ecc7",
   "metadata": {},
   "outputs": [
    {
     "data": {
      "text/plain": [
       "[('name', 'string'), ('age', 'int'), ('Experience', 'int')]"
      ]
     },
     "execution_count": 9,
     "metadata": {},
     "output_type": "execute_result"
    }
   ],
   "source": [
    "df_pyspark.dtypes"
   ]
  },
  {
   "cell_type": "code",
   "execution_count": 10,
   "id": "938e6bcd-318c-47b1-8b24-b5a3748b19f1",
   "metadata": {},
   "outputs": [
    {
     "name": "stdout",
     "output_type": "stream",
     "text": [
      "+-------+-----+------------------+-----------------+\n",
      "|summary| name|               age|       Experience|\n",
      "+-------+-----+------------------+-----------------+\n",
      "|  count|    3|                 3|                3|\n",
      "|   mean| null|23.666666666666668|8.333333333333334|\n",
      "| stddev| null| 5.507570547286102|5.507570547286102|\n",
      "|    min|fazil|                20|                2|\n",
      "|    max| umar|                30|               12|\n",
      "+-------+-----+------------------+-----------------+\n",
      "\n"
     ]
    }
   ],
   "source": [
    "df_pyspark.describe().show()"
   ]
  },
  {
   "cell_type": "code",
   "execution_count": 11,
   "id": "74bd009f-9cc3-434f-8e2b-7eab1272df29",
   "metadata": {},
   "outputs": [],
   "source": [
    "## adding columns\n",
    "df_pyspark=df_pyspark.withColumn('Experience after 2 years', df_pyspark['Experience']+2)"
   ]
  },
  {
   "cell_type": "code",
   "execution_count": 12,
   "id": "1a511ff5-8964-473f-9777-8af814d4ec0c",
   "metadata": {},
   "outputs": [
    {
     "name": "stdout",
     "output_type": "stream",
     "text": [
      "+------+---+----------+------------------------+\n",
      "|  name|age|Experience|Experience after 2 years|\n",
      "+------+---+----------+------------------------+\n",
      "| fazil| 21|        11|                      13|\n",
      "|  umar| 30|        12|                      14|\n",
      "|fazila| 20|         2|                       4|\n",
      "+------+---+----------+------------------------+\n",
      "\n"
     ]
    }
   ],
   "source": [
    "df_pyspark.show()"
   ]
  },
  {
   "cell_type": "code",
   "execution_count": 14,
   "id": "b57136ce-0bb3-47cb-8a38-a1741fffcd19",
   "metadata": {},
   "outputs": [],
   "source": [
    "# dropping column\n",
    "df_pyspark=df_pyspark.drop('Experience after 2 years')"
   ]
  },
  {
   "cell_type": "code",
   "execution_count": 16,
   "id": "b0c64e2f-612e-4151-8bf2-12b147232268",
   "metadata": {},
   "outputs": [
    {
     "name": "stdout",
     "output_type": "stream",
     "text": [
      "+------+---+----------+\n",
      "|  name|age|Experience|\n",
      "+------+---+----------+\n",
      "| fazil| 21|        11|\n",
      "|  umar| 30|        12|\n",
      "|fazila| 20|         2|\n",
      "+------+---+----------+\n",
      "\n"
     ]
    }
   ],
   "source": [
    "df_pyspark.show()"
   ]
  },
  {
   "cell_type": "code",
   "execution_count": 19,
   "id": "49037def-eac8-4a12-a481-800be327084d",
   "metadata": {},
   "outputs": [
    {
     "data": {
      "text/plain": [
       "DataFrame[new name: string, age: int, Experience: int]"
      ]
     },
     "execution_count": 19,
     "metadata": {},
     "output_type": "execute_result"
    }
   ],
   "source": [
    "## Rename the column\n",
    "df_pyspark.withColumnRenamed('name','new name')"
   ]
  },
  {
   "cell_type": "code",
   "execution_count": 20,
   "id": "58743300-0077-46f8-bcf0-23ab3458f5c6",
   "metadata": {},
   "outputs": [
    {
     "name": "stdout",
     "output_type": "stream",
     "text": [
      "+--------+---+----------+\n",
      "|new name|age|Experience|\n",
      "+--------+---+----------+\n",
      "|   fazil| 21|        11|\n",
      "|    umar| 30|        12|\n",
      "|  fazila| 20|         2|\n",
      "+--------+---+----------+\n",
      "\n"
     ]
    }
   ],
   "source": [
    "df_pyspark.withColumnRenamed('name','new name').show()"
   ]
  },
  {
   "cell_type": "code",
   "execution_count": null,
   "id": "9d56a461-b1ee-495e-ac96-e4fa15b83feb",
   "metadata": {},
   "outputs": [],
   "source": []
  }
 ],
 "metadata": {
  "kernelspec": {
   "display_name": "Python 3 (ipykernel)",
   "language": "python",
   "name": "python3"
  },
  "language_info": {
   "codemirror_mode": {
    "name": "ipython",
    "version": 3
   },
   "file_extension": ".py",
   "mimetype": "text/x-python",
   "name": "python",
   "nbconvert_exporter": "python",
   "pygments_lexer": "ipython3",
   "version": "3.8.18"
  }
 },
 "nbformat": 4,
 "nbformat_minor": 5
}
