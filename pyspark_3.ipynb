{
 "cells": [
  {
   "cell_type": "code",
   "execution_count": 1,
   "id": "5287bf9f-b91b-4a80-a5c2-6e0ab81923cb",
   "metadata": {},
   "outputs": [],
   "source": [
    "#dropping columns\n",
    "#dropping rows\n",
    "#various parameter in dropping functionalities\n",
    "#handling missing values by mean median mode"
   ]
  },
  {
   "cell_type": "code",
   "execution_count": 2,
   "id": "c5eee3ae-4c1d-4e89-8c72-57afa349d3b1",
   "metadata": {},
   "outputs": [],
   "source": [
    "from pyspark.sql import SparkSession\n",
    "spark=SparkSession.builder.appName('practice').getOrCreate()"
   ]
  },
  {
   "cell_type": "code",
   "execution_count": 3,
   "id": "a418040f-b456-4571-9a08-63e69b927e82",
   "metadata": {},
   "outputs": [
    {
     "data": {
      "text/plain": [
       "DataFrame[name: string, age: int, experience: int, salary: int]"
      ]
     },
     "execution_count": 3,
     "metadata": {},
     "output_type": "execute_result"
    }
   ],
   "source": [
    "spark.read.csv('test2.csv',header=True,inferSchema=True)"
   ]
  },
  {
   "cell_type": "code",
   "execution_count": 4,
   "id": "f4815055-452f-4562-af2f-9570afb5cb06",
   "metadata": {},
   "outputs": [],
   "source": [
    "df_pyspark=spark.read.csv('test2.csv',header=True,inferSchema=True)"
   ]
  },
  {
   "cell_type": "code",
   "execution_count": 5,
   "id": "f2726533-78b4-4bfd-8985-756f926a99c5",
   "metadata": {},
   "outputs": [
    {
     "name": "stdout",
     "output_type": "stream",
     "text": [
      "+---------+---+----------+------+\n",
      "|     name|age|experience|salary|\n",
      "+---------+---+----------+------+\n",
      "|    fazil| 21|        11| 10000|\n",
      "|     umar| 30|        12| 20000|\n",
      "|   fazila| 20|      null| 30000|\n",
      "|jabarulla| 50|        40| 40000|\n",
      "|     null| 40|        17| 50000|\n",
      "|  mohamed| 30|        16|  null|\n",
      "|abuthahir| 60|        30| 70000|\n",
      "|    vijay| 70|        30| 80000|\n",
      "|    surya| 30|        10| 90000|\n",
      "+---------+---+----------+------+\n",
      "\n"
     ]
    }
   ],
   "source": [
    "df_pyspark.show()"
   ]
  },
  {
   "cell_type": "code",
   "execution_count": 6,
   "id": "bc9894f0-3042-4ba3-a31c-9831ee756396",
   "metadata": {},
   "outputs": [
    {
     "name": "stdout",
     "output_type": "stream",
     "text": [
      "+---+----------+------+\n",
      "|age|experience|salary|\n",
      "+---+----------+------+\n",
      "| 21|        11| 10000|\n",
      "| 30|        12| 20000|\n",
      "| 20|      null| 30000|\n",
      "| 50|        40| 40000|\n",
      "| 40|        17| 50000|\n",
      "| 30|        16|  null|\n",
      "| 60|        30| 70000|\n",
      "| 70|        30| 80000|\n",
      "| 30|        10| 90000|\n",
      "+---+----------+------+\n",
      "\n"
     ]
    }
   ],
   "source": [
    "df_pyspark.drop('name').show()"
   ]
  },
  {
   "cell_type": "code",
   "execution_count": 8,
   "id": "9e38a655-36bc-4202-a02f-5fc2fa35f7ba",
   "metadata": {},
   "outputs": [
    {
     "name": "stdout",
     "output_type": "stream",
     "text": [
      "+---------+---+----------+------+\n",
      "|     name|age|experience|salary|\n",
      "+---------+---+----------+------+\n",
      "|    fazil| 21|        11| 10000|\n",
      "|     umar| 30|        12| 20000|\n",
      "|jabarulla| 50|        40| 40000|\n",
      "|abuthahir| 60|        30| 70000|\n",
      "|    vijay| 70|        30| 80000|\n",
      "|    surya| 30|        10| 90000|\n",
      "+---------+---+----------+------+\n",
      "\n"
     ]
    }
   ],
   "source": [
    "df_pyspark.na.drop().show()"
   ]
  },
  {
   "cell_type": "code",
   "execution_count": 10,
   "id": "4972e753-a668-4247-b24d-e76d0495a761",
   "metadata": {},
   "outputs": [
    {
     "name": "stdout",
     "output_type": "stream",
     "text": [
      "+---------+---+----------+------+\n",
      "|     name|age|experience|salary|\n",
      "+---------+---+----------+------+\n",
      "|    fazil| 21|        11| 10000|\n",
      "|     umar| 30|        12| 20000|\n",
      "|   fazila| 20|      null| 30000|\n",
      "|jabarulla| 50|        40| 40000|\n",
      "|     null| 40|        17| 50000|\n",
      "|  mohamed| 30|        16|  null|\n",
      "|abuthahir| 60|        30| 70000|\n",
      "|    vijay| 70|        30| 80000|\n",
      "|    surya| 30|        10| 90000|\n",
      "+---------+---+----------+------+\n",
      "\n"
     ]
    }
   ],
   "source": [
    "## any = how\n",
    "df_pyspark.na.drop(how=\"all\").show()"
   ]
  },
  {
   "cell_type": "code",
   "execution_count": 11,
   "id": "c1ae27cf-78ea-4810-bf46-bd9825abac5f",
   "metadata": {},
   "outputs": [
    {
     "name": "stdout",
     "output_type": "stream",
     "text": [
      "+---------+---+----------+------+\n",
      "|     name|age|experience|salary|\n",
      "+---------+---+----------+------+\n",
      "|    fazil| 21|        11| 10000|\n",
      "|     umar| 30|        12| 20000|\n",
      "|jabarulla| 50|        40| 40000|\n",
      "|abuthahir| 60|        30| 70000|\n",
      "|    vijay| 70|        30| 80000|\n",
      "|    surya| 30|        10| 90000|\n",
      "+---------+---+----------+------+\n",
      "\n"
     ]
    }
   ],
   "source": [
    "## any = how\n",
    "df_pyspark.na.drop(how=\"any\").show()"
   ]
  },
  {
   "cell_type": "code",
   "execution_count": 15,
   "id": "cffb9c6a-18aa-4599-8828-eddb23256dc3",
   "metadata": {},
   "outputs": [
    {
     "name": "stdout",
     "output_type": "stream",
     "text": [
      "+---------+---+----------+------+\n",
      "|     name|age|experience|salary|\n",
      "+---------+---+----------+------+\n",
      "|    fazil| 21|        11| 10000|\n",
      "|     umar| 30|        12| 20000|\n",
      "|jabarulla| 50|        40| 40000|\n",
      "|abuthahir| 60|        30| 70000|\n",
      "|    vijay| 70|        30| 80000|\n",
      "|    surya| 30|        10| 90000|\n",
      "+---------+---+----------+------+\n",
      "\n"
     ]
    }
   ],
   "source": [
    "#threshold - atleast 4 non null value present in the row\n",
    "df_pyspark.na.drop(how=\"any\",thresh=4).show()"
   ]
  },
  {
   "cell_type": "code",
   "execution_count": 16,
   "id": "9764d71e-fd2a-4f47-a3ea-741546175a6d",
   "metadata": {},
   "outputs": [
    {
     "name": "stdout",
     "output_type": "stream",
     "text": [
      "+---------+---+----------+------+\n",
      "|     name|age|experience|salary|\n",
      "+---------+---+----------+------+\n",
      "|    fazil| 21|        11| 10000|\n",
      "|     umar| 30|        12| 20000|\n",
      "|jabarulla| 50|        40| 40000|\n",
      "|     null| 40|        17| 50000|\n",
      "|  mohamed| 30|        16|  null|\n",
      "|abuthahir| 60|        30| 70000|\n",
      "|    vijay| 70|        30| 80000|\n",
      "|    surya| 30|        10| 90000|\n",
      "+---------+---+----------+------+\n",
      "\n"
     ]
    }
   ],
   "source": [
    "#subset\n",
    "df_pyspark.na.drop(how=\"any\",subset=['experience']).show()"
   ]
  },
  {
   "cell_type": "code",
   "execution_count": 20,
   "id": "adc2322a-f642-45d4-81e7-682637c51df8",
   "metadata": {},
   "outputs": [
    {
     "name": "stdout",
     "output_type": "stream",
     "text": [
      "+-------------+---+----------+------+\n",
      "|         name|age|experience|salary|\n",
      "+-------------+---+----------+------+\n",
      "|        fazil| 21|        11| 10000|\n",
      "|         umar| 30|        12| 20000|\n",
      "|       fazila| 20|      null| 30000|\n",
      "|    jabarulla| 50|        40| 40000|\n",
      "|Missing Value| 40|        17| 50000|\n",
      "|      mohamed| 30|        16|  null|\n",
      "|    abuthahir| 60|        30| 70000|\n",
      "|        vijay| 70|        30| 80000|\n",
      "|        surya| 30|        10| 90000|\n",
      "+-------------+---+----------+------+\n",
      "\n"
     ]
    }
   ],
   "source": [
    "##filling the missing value - replace it with a words\n",
    "df_pyspark.na.fill('Missing Value').show()"
   ]
  },
  {
   "cell_type": "code",
   "execution_count": 21,
   "id": "f79f880f-bc4b-4071-bd49-29738fe87c9e",
   "metadata": {},
   "outputs": [
    {
     "name": "stdout",
     "output_type": "stream",
     "text": [
      "+---------+---+----------+------+\n",
      "|     name|age|experience|salary|\n",
      "+---------+---+----------+------+\n",
      "|    fazil| 21|        11| 10000|\n",
      "|     umar| 30|        12| 20000|\n",
      "|   fazila| 20|      null| 30000|\n",
      "|jabarulla| 50|        40| 40000|\n",
      "|     null| 40|        17| 50000|\n",
      "|  mohamed| 30|        16|  null|\n",
      "|abuthahir| 60|        30| 70000|\n",
      "|    vijay| 70|        30| 80000|\n",
      "|    surya| 30|        10| 90000|\n",
      "+---------+---+----------+------+\n",
      "\n"
     ]
    }
   ],
   "source": [
    "##filling the missing value - replace it with a words\n",
    "df_pyspark.na.fill('Missing Value',['age','experience']).show()"
   ]
  },
  {
   "cell_type": "code",
   "execution_count": 23,
   "id": "fa2b5b1a-3c63-497f-9ea4-f804504e00d8",
   "metadata": {},
   "outputs": [
    {
     "name": "stdout",
     "output_type": "stream",
     "text": [
      "+---------+---+----------+------+\n",
      "|     name|age|experience|salary|\n",
      "+---------+---+----------+------+\n",
      "|    fazil| 21|        11| 10000|\n",
      "|     umar| 30|        12| 20000|\n",
      "|   fazila| 20|      null| 30000|\n",
      "|jabarulla| 50|        40| 40000|\n",
      "|     null| 40|        17| 50000|\n",
      "|  mohamed| 30|        16|  null|\n",
      "|abuthahir| 60|        30| 70000|\n",
      "|    vijay| 70|        30| 80000|\n",
      "|    surya| 30|        10| 90000|\n",
      "+---------+---+----------+------+\n",
      "\n"
     ]
    }
   ],
   "source": [
    "df_pyspark.show()"
   ]
  },
  {
   "cell_type": "code",
   "execution_count": 28,
   "id": "5512b52b-c00b-456d-8353-0bcfb1fc2dd1",
   "metadata": {},
   "outputs": [],
   "source": [
    "from pyspark.ml.feature import Imputer\n",
    "\n",
    "imputer = Imputer(\n",
    "    inputCols=['age', 'experience', 'salary'],\n",
    "    outputCols=[\"{}_imputed\".format(c) for c in ['age', 'experience', 'salary']]\n",
    ").setStrategy(\"mean\")\n"
   ]
  },
  {
   "cell_type": "code",
   "execution_count": 32,
   "id": "342339b5-368e-4566-8186-1de274538da8",
   "metadata": {},
   "outputs": [
    {
     "name": "stdout",
     "output_type": "stream",
     "text": [
      "+---------+---+----------+------+-----------+------------------+--------------+\n",
      "|     name|age|experience|salary|age_imputed|experience_imputed|salary_imputed|\n",
      "+---------+---+----------+------+-----------+------------------+--------------+\n",
      "|    fazil| 21|        11| 10000|         21|                11|         10000|\n",
      "|     umar| 30|        12| 20000|         30|                12|         20000|\n",
      "|   fazila| 20|      null| 30000|         20|                20|         30000|\n",
      "|jabarulla| 50|        40| 40000|         50|                40|         40000|\n",
      "|     null| 40|        17| 50000|         40|                17|         50000|\n",
      "|  mohamed| 30|        16|  null|         30|                16|         48750|\n",
      "|abuthahir| 60|        30| 70000|         60|                30|         70000|\n",
      "|    vijay| 70|        30| 80000|         70|                30|         80000|\n",
      "|    surya| 30|        10| 90000|         30|                10|         90000|\n",
      "+---------+---+----------+------+-----------+------------------+--------------+\n",
      "\n"
     ]
    }
   ],
   "source": [
    "imputer.fit(df_pyspark).transform(df_pyspark).show()\n"
   ]
  },
  {
   "cell_type": "code",
   "execution_count": null,
   "id": "e953aaf9-5f58-4db8-9ff1-e234386a743e",
   "metadata": {},
   "outputs": [],
   "source": []
  }
 ],
 "metadata": {
  "kernelspec": {
   "display_name": "Python 3 (ipykernel)",
   "language": "python",
   "name": "python3"
  },
  "language_info": {
   "codemirror_mode": {
    "name": "ipython",
    "version": 3
   },
   "file_extension": ".py",
   "mimetype": "text/x-python",
   "name": "python",
   "nbconvert_exporter": "python",
   "pygments_lexer": "ipython3",
   "version": "3.8.18"
  }
 },
 "nbformat": 4,
 "nbformat_minor": 5
}
