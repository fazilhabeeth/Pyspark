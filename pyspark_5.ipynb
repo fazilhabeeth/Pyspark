{
 "cells": [
  {
   "cell_type": "code",
   "execution_count": 1,
   "id": "908ad765-c8eb-4a2a-a004-de446dc895a7",
   "metadata": {},
   "outputs": [],
   "source": [
    "from pyspark.sql import SparkSession\n",
    "spark=SparkSession.builder.appName('dataframe').getOrCreate()"
   ]
  },
  {
   "cell_type": "code",
   "execution_count": 2,
   "id": "63893d7c-9f44-47be-baa8-6141444262ab",
   "metadata": {},
   "outputs": [
    {
     "data": {
      "text/html": [
       "\n",
       "            <div>\n",
       "                <p><b>SparkSession - in-memory</b></p>\n",
       "                \n",
       "        <div>\n",
       "            <p><b>SparkContext</b></p>\n",
       "\n",
       "            <p><a href=\"http://MSI:4042\">Spark UI</a></p>\n",
       "\n",
       "            <dl>\n",
       "              <dt>Version</dt>\n",
       "                <dd><code>v3.5.1</code></dd>\n",
       "              <dt>Master</dt>\n",
       "                <dd><code>local[*]</code></dd>\n",
       "              <dt>AppName</dt>\n",
       "                <dd><code>dataframe</code></dd>\n",
       "            </dl>\n",
       "        </div>\n",
       "        \n",
       "            </div>\n",
       "        "
      ],
      "text/plain": [
       "<pyspark.sql.session.SparkSession at 0x25049f24520>"
      ]
     },
     "execution_count": 2,
     "metadata": {},
     "output_type": "execute_result"
    }
   ],
   "source": [
    "spark"
   ]
  },
  {
   "cell_type": "code",
   "execution_count": 3,
   "id": "336bbfdb-7744-4e01-8c88-7fc26fc7bb5e",
   "metadata": {},
   "outputs": [],
   "source": [
    "df_pyspark=spark.read.csv('test4.csv',header=True,inferSchema=True)"
   ]
  },
  {
   "cell_type": "code",
   "execution_count": 4,
   "id": "883f493a-b1b5-4e5c-a283-bc44d710687d",
   "metadata": {},
   "outputs": [
    {
     "name": "stdout",
     "output_type": "stream",
     "text": [
      "+---------+------------+------+\n",
      "|     name|  department|salary|\n",
      "+---------+------------+------+\n",
      "|    fazil|Data science| 10000|\n",
      "|    fazil|         IOT| 20000|\n",
      "|    fazil|   Big data | 30000|\n",
      "|jabarulla|   Big data | 40000|\n",
      "|jabarulla|Data science| 50000|\n",
      "|    vijay|         IOT| 60000|\n",
      "|abuthahir|   Big data | 70000|\n",
      "|    vijay|   Big data | 80000|\n",
      "|    surya|Data science| 90000|\n",
      "+---------+------------+------+\n",
      "\n"
     ]
    }
   ],
   "source": [
    "df_pyspark.show()"
   ]
  },
  {
   "cell_type": "code",
   "execution_count": 5,
   "id": "2e92898a-e6e9-4043-b151-304c222d3108",
   "metadata": {},
   "outputs": [
    {
     "name": "stdout",
     "output_type": "stream",
     "text": [
      "root\n",
      " |-- name: string (nullable = true)\n",
      " |-- department: string (nullable = true)\n",
      " |-- salary: integer (nullable = true)\n",
      "\n"
     ]
    }
   ],
   "source": [
    "df_pyspark.printSchema()"
   ]
  },
  {
   "cell_type": "code",
   "execution_count": 6,
   "id": "c9c8680e-b1a7-4777-ba72-54d8db61dda7",
   "metadata": {},
   "outputs": [
    {
     "name": "stdout",
     "output_type": "stream",
     "text": [
      "+---------+-----------+\n",
      "|     Name|sum(salary)|\n",
      "+---------+-----------+\n",
      "|abuthahir|      70000|\n",
      "|    fazil|      60000|\n",
      "|    surya|      90000|\n",
      "|jabarulla|      90000|\n",
      "|    vijay|     140000|\n",
      "+---------+-----------+\n",
      "\n"
     ]
    }
   ],
   "source": [
    "## Groupby\n",
    "### Grouped to find the maximum salary\n",
    "df_pyspark.groupBy('Name').sum().show()"
   ]
  },
  {
   "cell_type": "code",
   "execution_count": 7,
   "id": "a22caf0b-3e3b-4b6f-a774-12e1091b6a7d",
   "metadata": {},
   "outputs": [
    {
     "name": "stdout",
     "output_type": "stream",
     "text": [
      "+---------+-----------+\n",
      "|     Name|avg(salary)|\n",
      "+---------+-----------+\n",
      "|abuthahir|    70000.0|\n",
      "|    fazil|    20000.0|\n",
      "|    surya|    90000.0|\n",
      "|jabarulla|    45000.0|\n",
      "|    vijay|    70000.0|\n",
      "+---------+-----------+\n",
      "\n"
     ]
    }
   ],
   "source": [
    "df_pyspark.groupBy('Name').avg().show()"
   ]
  },
  {
   "cell_type": "code",
   "execution_count": 9,
   "id": "6f730c0c-70b0-4f72-96a3-0e7684728323",
   "metadata": {},
   "outputs": [
    {
     "name": "stdout",
     "output_type": "stream",
     "text": [
      "+------------+-----------+\n",
      "|  department|sum(salary)|\n",
      "+------------+-----------+\n",
      "|         IOT|      80000|\n",
      "|Data science|     150000|\n",
      "|   Big data |     220000|\n",
      "+------------+-----------+\n",
      "\n"
     ]
    }
   ],
   "source": [
    "### Groupby Departmernts  which gives maximum salary\n",
    "df_pyspark.groupBy('department').sum().show()"
   ]
  },
  {
   "cell_type": "code",
   "execution_count": 11,
   "id": "e4339a31-92fe-4eea-bfe7-97175e4800d2",
   "metadata": {},
   "outputs": [
    {
     "name": "stdout",
     "output_type": "stream",
     "text": [
      "+------------+-----------+\n",
      "|  department|avg(salary)|\n",
      "+------------+-----------+\n",
      "|         IOT|    40000.0|\n",
      "|Data science|    50000.0|\n",
      "|   Big data |    55000.0|\n",
      "+------------+-----------+\n",
      "\n"
     ]
    }
   ],
   "source": [
    "df_pyspark.groupBy('department').mean().show()"
   ]
  },
  {
   "cell_type": "code",
   "execution_count": 13,
   "id": "d2eb97b2-33a1-403d-bf0d-0687a6f6e6fb",
   "metadata": {},
   "outputs": [
    {
     "name": "stdout",
     "output_type": "stream",
     "text": [
      "+------------+-----+\n",
      "|  department|count|\n",
      "+------------+-----+\n",
      "|         IOT|    2|\n",
      "|Data science|    3|\n",
      "|   Big data |    4|\n",
      "+------------+-----+\n",
      "\n"
     ]
    }
   ],
   "source": [
    "\n",
    "df_pyspark.groupBy('department').count().show()"
   ]
  },
  {
   "cell_type": "code",
   "execution_count": 14,
   "id": "e881cd84-11f9-4296-b818-07d516ab5e93",
   "metadata": {},
   "outputs": [
    {
     "name": "stdout",
     "output_type": "stream",
     "text": [
      "+-----------+\n",
      "|sum(salary)|\n",
      "+-----------+\n",
      "|     450000|\n",
      "+-----------+\n",
      "\n"
     ]
    }
   ],
   "source": [
    "\n",
    "df_pyspark.agg({'salary':'sum'}).show()"
   ]
  },
  {
   "cell_type": "code",
   "execution_count": null,
   "id": "73b253b9-a23f-4730-bf9d-0f62833dea6c",
   "metadata": {},
   "outputs": [],
   "source": []
  }
 ],
 "metadata": {
  "kernelspec": {
   "display_name": "Python 3 (ipykernel)",
   "language": "python",
   "name": "python3"
  },
  "language_info": {
   "codemirror_mode": {
    "name": "ipython",
    "version": 3
   },
   "file_extension": ".py",
   "mimetype": "text/x-python",
   "name": "python",
   "nbconvert_exporter": "python",
   "pygments_lexer": "ipython3",
   "version": "3.8.18"
  }
 },
 "nbformat": 4,
 "nbformat_minor": 5
}
