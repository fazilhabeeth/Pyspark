{
 "cells": [
  {
   "cell_type": "code",
   "execution_count": 1,
   "id": "785d4017-1378-4477-85bd-1ec0cb2812d7",
   "metadata": {},
   "outputs": [],
   "source": [
    "from pyspark.sql import SparkSession\n",
    "spark=SparkSession.builder.appName('Missing').getOrCreate()"
   ]
  },
  {
   "cell_type": "code",
   "execution_count": 2,
   "id": "5667ecc7-0ce6-4bdd-ab97-7543910e353f",
   "metadata": {},
   "outputs": [],
   "source": [
    "## Read The dataset\n",
    "training = spark.read.csv('test3.csv',header=True,inferSchema=True)"
   ]
  },
  {
   "cell_type": "code",
   "execution_count": 3,
   "id": "1c965d21-4027-487e-9ec1-be15a24fed73",
   "metadata": {},
   "outputs": [
    {
     "name": "stdout",
     "output_type": "stream",
     "text": [
      "+---------+---+----------+------+\n",
      "|     name|age|experience|salary|\n",
      "+---------+---+----------+------+\n",
      "|    fazil| 21|        11| 10000|\n",
      "|     umar| 30|        12| 20000|\n",
      "|   fazila| 20|        32| 30000|\n",
      "|jabarulla| 50|        40| 40000|\n",
      "|   asathi| 40|        17| 50000|\n",
      "|  mohamed| 30|        16| 60000|\n",
      "|abuthahir| 60|        30| 70000|\n",
      "|    vijay| 70|        30| 80000|\n",
      "|    surya| 30|        10| 90000|\n",
      "+---------+---+----------+------+\n",
      "\n"
     ]
    }
   ],
   "source": [
    "training.show()"
   ]
  },
  {
   "cell_type": "code",
   "execution_count": 4,
   "id": "0765a6fa-14db-4c63-8faf-9deed7e7c298",
   "metadata": {},
   "outputs": [
    {
     "name": "stdout",
     "output_type": "stream",
     "text": [
      "root\n",
      " |-- name: string (nullable = true)\n",
      " |-- age: integer (nullable = true)\n",
      " |-- experience: integer (nullable = true)\n",
      " |-- salary: integer (nullable = true)\n",
      "\n"
     ]
    }
   ],
   "source": [
    "training.printSchema()"
   ]
  },
  {
   "cell_type": "code",
   "execution_count": 5,
   "id": "fe6497a9-e675-4e89-8430-aad1fbb420a3",
   "metadata": {},
   "outputs": [
    {
     "data": {
      "text/plain": [
       "['name', 'age', 'experience', 'salary']"
      ]
     },
     "execution_count": 5,
     "metadata": {},
     "output_type": "execute_result"
    }
   ],
   "source": [
    "training.columns"
   ]
  },
  {
   "cell_type": "code",
   "execution_count": 6,
   "id": "b1072af3-59e8-4f14-80ad-f3c6e0d05c07",
   "metadata": {},
   "outputs": [],
   "source": [
    "from pyspark.ml.feature import VectorAssembler\n",
    "featureassembler=VectorAssembler(inputCols=[\"age\",\"experience\"],outputCol=\"Independent Features\")"
   ]
  },
  {
   "cell_type": "code",
   "execution_count": 7,
   "id": "50579d85-8cff-4a8f-ab75-b7c6b8da0153",
   "metadata": {},
   "outputs": [],
   "source": [
    "\n",
    "output=featureassembler.transform(training)"
   ]
  },
  {
   "cell_type": "code",
   "execution_count": 8,
   "id": "548fb5b4-dc0f-400e-a74e-ec00d26cbc3d",
   "metadata": {},
   "outputs": [
    {
     "name": "stdout",
     "output_type": "stream",
     "text": [
      "+---------+---+----------+------+--------------------+\n",
      "|     name|age|experience|salary|Independent Features|\n",
      "+---------+---+----------+------+--------------------+\n",
      "|    fazil| 21|        11| 10000|         [21.0,11.0]|\n",
      "|     umar| 30|        12| 20000|         [30.0,12.0]|\n",
      "|   fazila| 20|        32| 30000|         [20.0,32.0]|\n",
      "|jabarulla| 50|        40| 40000|         [50.0,40.0]|\n",
      "|   asathi| 40|        17| 50000|         [40.0,17.0]|\n",
      "|  mohamed| 30|        16| 60000|         [30.0,16.0]|\n",
      "|abuthahir| 60|        30| 70000|         [60.0,30.0]|\n",
      "|    vijay| 70|        30| 80000|         [70.0,30.0]|\n",
      "|    surya| 30|        10| 90000|         [30.0,10.0]|\n",
      "+---------+---+----------+------+--------------------+\n",
      "\n"
     ]
    }
   ],
   "source": [
    "output.show()"
   ]
  },
  {
   "cell_type": "code",
   "execution_count": 9,
   "id": "02a0774d-7c38-4846-b040-52b34f24f20c",
   "metadata": {},
   "outputs": [
    {
     "data": {
      "text/plain": [
       "['name', 'age', 'experience', 'salary', 'Independent Features']"
      ]
     },
     "execution_count": 9,
     "metadata": {},
     "output_type": "execute_result"
    }
   ],
   "source": [
    "output.columns"
   ]
  },
  {
   "cell_type": "code",
   "execution_count": 10,
   "id": "cfa2ced1-1bc3-480d-819d-de2fb5a12e47",
   "metadata": {},
   "outputs": [],
   "source": [
    "finalized_data=output.select(\"Independent Features\",\"salary\")"
   ]
  },
  {
   "cell_type": "code",
   "execution_count": 11,
   "id": "25c5b293-e154-490a-a48c-845601b2fb21",
   "metadata": {},
   "outputs": [
    {
     "name": "stdout",
     "output_type": "stream",
     "text": [
      "+--------------------+------+\n",
      "|Independent Features|salary|\n",
      "+--------------------+------+\n",
      "|         [21.0,11.0]| 10000|\n",
      "|         [30.0,12.0]| 20000|\n",
      "|         [20.0,32.0]| 30000|\n",
      "|         [50.0,40.0]| 40000|\n",
      "|         [40.0,17.0]| 50000|\n",
      "|         [30.0,16.0]| 60000|\n",
      "|         [60.0,30.0]| 70000|\n",
      "|         [70.0,30.0]| 80000|\n",
      "|         [30.0,10.0]| 90000|\n",
      "+--------------------+------+\n",
      "\n"
     ]
    }
   ],
   "source": [
    "\n",
    "finalized_data.show()"
   ]
  },
  {
   "cell_type": "code",
   "execution_count": 12,
   "id": "8503c187-88b5-474c-997d-d606df6d96f2",
   "metadata": {},
   "outputs": [],
   "source": [
    "from pyspark.ml.regression import LinearRegression\n",
    "##train test split\n",
    "train_data,test_data=finalized_data.randomSplit([0.75,0.25])\n",
    "regressor=LinearRegression(featuresCol='Independent Features', labelCol='salary')\n",
    "regressor=regressor.fit(train_data)"
   ]
  },
  {
   "cell_type": "code",
   "execution_count": 13,
   "id": "da3bf5cc-a318-4123-83db-8f7d82b31178",
   "metadata": {},
   "outputs": [
    {
     "data": {
      "text/plain": [
       "DenseVector([1539.6286, -744.6608])"
      ]
     },
     "execution_count": 13,
     "metadata": {},
     "output_type": "execute_result"
    }
   ],
   "source": [
    "### Coefficients\n",
    "regressor.coefficients"
   ]
  },
  {
   "cell_type": "code",
   "execution_count": 14,
   "id": "e5f9aafe-ef45-4baf-b721-01cbca9d3d00",
   "metadata": {},
   "outputs": [
    {
     "data": {
      "text/plain": [
       "-2465.875987224591"
      ]
     },
     "execution_count": 14,
     "metadata": {},
     "output_type": "execute_result"
    }
   ],
   "source": [
    "### Intercepts\n",
    "regressor.intercept"
   ]
  },
  {
   "cell_type": "code",
   "execution_count": 15,
   "id": "b53430f6-1268-420e-95ca-508b6b3bf70d",
   "metadata": {},
   "outputs": [],
   "source": [
    "### Prediction\n",
    "pred_results=regressor.evaluate(test_data)"
   ]
  },
  {
   "cell_type": "code",
   "execution_count": 16,
   "id": "31fe2928-f9cb-43ed-a842-90e1b144cc15",
   "metadata": {},
   "outputs": [
    {
     "data": {
      "text/plain": [
       "(39613.03720405991, 1768301407.7636738)"
      ]
     },
     "execution_count": 16,
     "metadata": {},
     "output_type": "execute_result"
    }
   ],
   "source": [
    "pred_results.meanAbsoluteError,pred_results.meanSquaredError"
   ]
  },
  {
   "cell_type": "code",
   "execution_count": null,
   "id": "d9835eb1-9b15-45d6-91e3-2602955a1e9d",
   "metadata": {},
   "outputs": [],
   "source": []
  }
 ],
 "metadata": {
  "kernelspec": {
   "display_name": "Python 3 (ipykernel)",
   "language": "python",
   "name": "python3"
  },
  "language_info": {
   "codemirror_mode": {
    "name": "ipython",
    "version": 3
   },
   "file_extension": ".py",
   "mimetype": "text/x-python",
   "name": "python",
   "nbconvert_exporter": "python",
   "pygments_lexer": "ipython3",
   "version": "3.8.18"
  }
 },
 "nbformat": 4,
 "nbformat_minor": 5
}
